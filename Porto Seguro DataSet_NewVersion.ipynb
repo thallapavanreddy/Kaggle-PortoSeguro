{
 "cells": [
  {
   "cell_type": "markdown",
   "metadata": {},
   "source": [
    "# Porto Seguro’s Safe Driver Prediction\n",
    "## Predict if a driver will file an insurance claim next year.\n",
    "\n",
    "### Problem Statment: \n",
    "<ul>predict the probability that an auto insurance policy holder files a claim.<ul>"
   ]
  },
  {
   "cell_type": "code",
   "execution_count": 4,
   "metadata": {},
   "outputs": [],
   "source": [
    "import numpy as np\n",
    "import pandas as pd\n",
    "import matplotlib.pyplot as plt\n",
    "%matplotlib inline\n",
    "\n",
    "\n",
    "import warnings\n",
    "warnings.filterwarnings('ignore')\n",
    "\n",
    "pd.set_option('display.max_columns', 500)\n",
    "pd.set_option('display.max_rows', 65000)\n",
    "\n",
    "from scipy import stats\n",
    "\n",
    "from sklearn.preprocessing import LabelEncoder, MinMaxScaler\n",
    "from sklearn.model_selection import train_test_split\n",
    "\n",
    "##Synthetic Minority Over-sampling Technique to overcome imbalanced dataset\n",
    "#from imblearn.over_sampling import SMOTE \n",
    "\n",
    "from sklearn.linear_model import LogisticRegression\n",
    "from sklearn.tree import DecisionTreeClassifier\n",
    "from sklearn.ensemble import RandomForestClassifier\n",
    "from sklearn.ensemble import AdaBoostClassifier\n",
    "from sklearn.ensemble import GradientBoostingClassifier\n",
    "from sklearn.svm import SVC\n",
    "from sklearn.neighbors import NearestNeighbors\n",
    "\n",
    "from sklearn.model_selection import RandomizedSearchCV\n",
    "from sklearn.model_selection import GridSearchCV, cross_val_score, StratifiedKFold\n",
    "\n",
    "from sklearn.metrics import confusion_matrix, recall_score, precision_score, f1_score, roc_auc_score, roc_curve, make_scorer\n",
    "score_fun = make_scorer('roc_auc')"
   ]
  },
  {
   "cell_type": "code",
   "execution_count": 5,
   "metadata": {},
   "outputs": [],
   "source": [
    "df = pd.read_csv(\"Porto_Seguro.csv\")"
   ]
  },
  {
   "cell_type": "code",
   "execution_count": 6,
   "metadata": {},
   "outputs": [
    {
     "data": {
      "text/plain": [
       "0    0.963552\n",
       "1    0.036448\n",
       "Name: target, dtype: float64"
      ]
     },
     "execution_count": 6,
     "metadata": {},
     "output_type": "execute_result"
    }
   ],
   "source": [
    "df['target'].value_counts(normalize=True)"
   ]
  },
  {
   "cell_type": "code",
   "execution_count": 7,
   "metadata": {},
   "outputs": [
    {
     "data": {
      "text/plain": [
       "0    573518\n",
       "1     21694\n",
       "Name: target, dtype: int64"
      ]
     },
     "execution_count": 7,
     "metadata": {},
     "output_type": "execute_result"
    }
   ],
   "source": [
    "df['target'].value_counts()"
   ]
  },
  {
   "cell_type": "code",
   "execution_count": 8,
   "metadata": {},
   "outputs": [],
   "source": [
    "df = df.replace(-1, np.NAN)"
   ]
  },
  {
   "cell_type": "code",
   "execution_count": 9,
   "metadata": {},
   "outputs": [
    {
     "data": {
      "text/plain": [
       "ps_car_03_cat    69.089837\n",
       "ps_car_05_cat    44.782531\n",
       "dtype: float64"
      ]
     },
     "execution_count": 9,
     "metadata": {},
     "output_type": "execute_result"
    }
   ],
   "source": [
    "missing_values_per = df.isna().sum()/df.shape[0]*100\n",
    "missing_values_per[missing_values_per>40]"
   ]
  },
  {
   "cell_type": "code",
   "execution_count": 10,
   "metadata": {},
   "outputs": [],
   "source": [
    "df.drop(columns='ps_car_03_cat', inplace=True)"
   ]
  },
  {
   "cell_type": "code",
   "execution_count": 11,
   "metadata": {},
   "outputs": [],
   "source": [
    "df_id = df['id']\n",
    "y = df['target']\n",
    "df.drop(columns=['id', 'target'], inplace=True)"
   ]
  },
  {
   "cell_type": "code",
   "execution_count": 12,
   "metadata": {},
   "outputs": [
    {
     "data": {
      "text/plain": [
       "(595212, 56)"
      ]
     },
     "execution_count": 12,
     "metadata": {},
     "output_type": "execute_result"
    }
   ],
   "source": [
    "df.shape"
   ]
  },
  {
   "cell_type": "code",
   "execution_count": 13,
   "metadata": {},
   "outputs": [],
   "source": [
    "columns = df.columns.to_list()"
   ]
  },
  {
   "cell_type": "code",
   "execution_count": 14,
   "metadata": {},
   "outputs": [],
   "source": [
    "cat = []\n",
    "reg = []\n",
    "for i in columns:\n",
    "    if 'cat' in i:\n",
    "        cat.append(i)\n",
    "    elif 'bin' in i:\n",
    "        cat.append(i)        \n",
    "    elif 'reg' in i:\n",
    "        reg.append(i)\n",
    "    elif 'ind' in i:\n",
    "        cat.append(i)\n",
    "    elif df[i].dtype=='float64':\n",
    "        reg.append(i)\n",
    "    else:\n",
    "        cat.append(i)"
   ]
  },
  {
   "cell_type": "code",
   "execution_count": 15,
   "metadata": {
    "scrolled": false
   },
   "outputs": [
    {
     "data": {
      "text/html": [
       "<div>\n",
       "<style scoped>\n",
       "    .dataframe tbody tr th:only-of-type {\n",
       "        vertical-align: middle;\n",
       "    }\n",
       "\n",
       "    .dataframe tbody tr th {\n",
       "        vertical-align: top;\n",
       "    }\n",
       "\n",
       "    .dataframe thead th {\n",
       "        text-align: right;\n",
       "    }\n",
       "</style>\n",
       "<table border=\"1\" class=\"dataframe\">\n",
       "  <thead>\n",
       "    <tr style=\"text-align: right;\">\n",
       "      <th></th>\n",
       "      <th>ps_reg_01</th>\n",
       "      <th>ps_reg_02</th>\n",
       "      <th>ps_reg_03</th>\n",
       "      <th>ps_car_11</th>\n",
       "      <th>ps_car_12</th>\n",
       "      <th>ps_car_13</th>\n",
       "      <th>ps_car_14</th>\n",
       "      <th>ps_car_15</th>\n",
       "      <th>ps_calc_01</th>\n",
       "      <th>ps_calc_02</th>\n",
       "      <th>ps_calc_03</th>\n",
       "    </tr>\n",
       "  </thead>\n",
       "  <tbody>\n",
       "    <tr>\n",
       "      <td>0</td>\n",
       "      <td>0.7</td>\n",
       "      <td>0.2</td>\n",
       "      <td>0.718070</td>\n",
       "      <td>2.0</td>\n",
       "      <td>0.400000</td>\n",
       "      <td>0.883679</td>\n",
       "      <td>0.370810</td>\n",
       "      <td>3.605551</td>\n",
       "      <td>0.6</td>\n",
       "      <td>0.5</td>\n",
       "      <td>0.2</td>\n",
       "    </tr>\n",
       "    <tr>\n",
       "      <td>1</td>\n",
       "      <td>0.8</td>\n",
       "      <td>0.4</td>\n",
       "      <td>0.766078</td>\n",
       "      <td>3.0</td>\n",
       "      <td>0.316228</td>\n",
       "      <td>0.618817</td>\n",
       "      <td>0.388716</td>\n",
       "      <td>2.449490</td>\n",
       "      <td>0.3</td>\n",
       "      <td>0.1</td>\n",
       "      <td>0.3</td>\n",
       "    </tr>\n",
       "    <tr>\n",
       "      <td>2</td>\n",
       "      <td>0.0</td>\n",
       "      <td>0.0</td>\n",
       "      <td>NaN</td>\n",
       "      <td>1.0</td>\n",
       "      <td>0.316228</td>\n",
       "      <td>0.641586</td>\n",
       "      <td>0.347275</td>\n",
       "      <td>3.316625</td>\n",
       "      <td>0.5</td>\n",
       "      <td>0.7</td>\n",
       "      <td>0.1</td>\n",
       "    </tr>\n",
       "    <tr>\n",
       "      <td>3</td>\n",
       "      <td>0.9</td>\n",
       "      <td>0.2</td>\n",
       "      <td>0.580948</td>\n",
       "      <td>1.0</td>\n",
       "      <td>0.374166</td>\n",
       "      <td>0.542949</td>\n",
       "      <td>0.294958</td>\n",
       "      <td>2.000000</td>\n",
       "      <td>0.6</td>\n",
       "      <td>0.9</td>\n",
       "      <td>0.1</td>\n",
       "    </tr>\n",
       "    <tr>\n",
       "      <td>4</td>\n",
       "      <td>0.7</td>\n",
       "      <td>0.6</td>\n",
       "      <td>0.840759</td>\n",
       "      <td>3.0</td>\n",
       "      <td>0.316070</td>\n",
       "      <td>0.565832</td>\n",
       "      <td>0.365103</td>\n",
       "      <td>2.000000</td>\n",
       "      <td>0.4</td>\n",
       "      <td>0.6</td>\n",
       "      <td>0.0</td>\n",
       "    </tr>\n",
       "  </tbody>\n",
       "</table>\n",
       "</div>"
      ],
      "text/plain": [
       "   ps_reg_01  ps_reg_02  ps_reg_03  ps_car_11  ps_car_12  ps_car_13  \\\n",
       "0        0.7        0.2   0.718070        2.0   0.400000   0.883679   \n",
       "1        0.8        0.4   0.766078        3.0   0.316228   0.618817   \n",
       "2        0.0        0.0        NaN        1.0   0.316228   0.641586   \n",
       "3        0.9        0.2   0.580948        1.0   0.374166   0.542949   \n",
       "4        0.7        0.6   0.840759        3.0   0.316070   0.565832   \n",
       "\n",
       "   ps_car_14  ps_car_15  ps_calc_01  ps_calc_02  ps_calc_03  \n",
       "0   0.370810   3.605551         0.6         0.5         0.2  \n",
       "1   0.388716   2.449490         0.3         0.1         0.3  \n",
       "2   0.347275   3.316625         0.5         0.7         0.1  \n",
       "3   0.294958   2.000000         0.6         0.9         0.1  \n",
       "4   0.365103   2.000000         0.4         0.6         0.0  "
      ]
     },
     "execution_count": 15,
     "metadata": {},
     "output_type": "execute_result"
    }
   ],
   "source": [
    "df[reg].head()"
   ]
  },
  {
   "cell_type": "code",
   "execution_count": 16,
   "metadata": {},
   "outputs": [],
   "source": [
    "df[reg] = df[reg].astype('float64')\n",
    "df[cat] = df[cat].astype('O')"
   ]
  },
  {
   "cell_type": "code",
   "execution_count": 17,
   "metadata": {},
   "outputs": [
    {
     "data": {
      "text/html": [
       "<div>\n",
       "<style scoped>\n",
       "    .dataframe tbody tr th:only-of-type {\n",
       "        vertical-align: middle;\n",
       "    }\n",
       "\n",
       "    .dataframe tbody tr th {\n",
       "        vertical-align: top;\n",
       "    }\n",
       "\n",
       "    .dataframe thead th {\n",
       "        text-align: right;\n",
       "    }\n",
       "</style>\n",
       "<table border=\"1\" class=\"dataframe\">\n",
       "  <thead>\n",
       "    <tr style=\"text-align: right;\">\n",
       "      <th></th>\n",
       "      <th>ps_ind_01</th>\n",
       "      <th>ps_ind_02_cat</th>\n",
       "      <th>ps_ind_03</th>\n",
       "      <th>ps_ind_04_cat</th>\n",
       "      <th>ps_ind_05_cat</th>\n",
       "      <th>ps_ind_06_bin</th>\n",
       "      <th>ps_ind_07_bin</th>\n",
       "      <th>ps_ind_08_bin</th>\n",
       "      <th>ps_ind_09_bin</th>\n",
       "      <th>ps_ind_10_bin</th>\n",
       "      <th>ps_ind_11_bin</th>\n",
       "      <th>ps_ind_12_bin</th>\n",
       "      <th>ps_ind_13_bin</th>\n",
       "      <th>ps_ind_14</th>\n",
       "      <th>ps_ind_15</th>\n",
       "      <th>ps_ind_16_bin</th>\n",
       "      <th>ps_ind_17_bin</th>\n",
       "      <th>ps_ind_18_bin</th>\n",
       "      <th>ps_car_01_cat</th>\n",
       "      <th>ps_car_02_cat</th>\n",
       "      <th>ps_car_04_cat</th>\n",
       "      <th>ps_car_05_cat</th>\n",
       "      <th>ps_car_06_cat</th>\n",
       "      <th>ps_car_07_cat</th>\n",
       "      <th>ps_car_08_cat</th>\n",
       "      <th>ps_car_09_cat</th>\n",
       "      <th>ps_car_10_cat</th>\n",
       "      <th>ps_car_11_cat</th>\n",
       "      <th>ps_calc_04</th>\n",
       "      <th>ps_calc_05</th>\n",
       "      <th>ps_calc_06</th>\n",
       "      <th>ps_calc_07</th>\n",
       "      <th>ps_calc_08</th>\n",
       "      <th>ps_calc_09</th>\n",
       "      <th>ps_calc_10</th>\n",
       "      <th>ps_calc_11</th>\n",
       "      <th>ps_calc_12</th>\n",
       "      <th>ps_calc_13</th>\n",
       "      <th>ps_calc_14</th>\n",
       "      <th>ps_calc_15_bin</th>\n",
       "      <th>ps_calc_16_bin</th>\n",
       "      <th>ps_calc_17_bin</th>\n",
       "      <th>ps_calc_18_bin</th>\n",
       "      <th>ps_calc_19_bin</th>\n",
       "      <th>ps_calc_20_bin</th>\n",
       "    </tr>\n",
       "  </thead>\n",
       "  <tbody>\n",
       "    <tr>\n",
       "      <td>count</td>\n",
       "      <td>595212</td>\n",
       "      <td>594996.0</td>\n",
       "      <td>595212</td>\n",
       "      <td>595129.0</td>\n",
       "      <td>589403.0</td>\n",
       "      <td>595212</td>\n",
       "      <td>595212</td>\n",
       "      <td>595212</td>\n",
       "      <td>595212</td>\n",
       "      <td>595212</td>\n",
       "      <td>595212</td>\n",
       "      <td>595212</td>\n",
       "      <td>595212</td>\n",
       "      <td>595212</td>\n",
       "      <td>595212</td>\n",
       "      <td>595212</td>\n",
       "      <td>595212</td>\n",
       "      <td>595212</td>\n",
       "      <td>595105.0</td>\n",
       "      <td>595207.0</td>\n",
       "      <td>595212</td>\n",
       "      <td>328661.0</td>\n",
       "      <td>595212</td>\n",
       "      <td>583723.0</td>\n",
       "      <td>595212</td>\n",
       "      <td>594643.0</td>\n",
       "      <td>595212</td>\n",
       "      <td>595212</td>\n",
       "      <td>595212</td>\n",
       "      <td>595212</td>\n",
       "      <td>595212</td>\n",
       "      <td>595212</td>\n",
       "      <td>595212</td>\n",
       "      <td>595212</td>\n",
       "      <td>595212</td>\n",
       "      <td>595212</td>\n",
       "      <td>595212</td>\n",
       "      <td>595212</td>\n",
       "      <td>595212</td>\n",
       "      <td>595212</td>\n",
       "      <td>595212</td>\n",
       "      <td>595212</td>\n",
       "      <td>595212</td>\n",
       "      <td>595212</td>\n",
       "      <td>595212</td>\n",
       "    </tr>\n",
       "    <tr>\n",
       "      <td>unique</td>\n",
       "      <td>8</td>\n",
       "      <td>4.0</td>\n",
       "      <td>12</td>\n",
       "      <td>2.0</td>\n",
       "      <td>7.0</td>\n",
       "      <td>2</td>\n",
       "      <td>2</td>\n",
       "      <td>2</td>\n",
       "      <td>2</td>\n",
       "      <td>2</td>\n",
       "      <td>2</td>\n",
       "      <td>2</td>\n",
       "      <td>2</td>\n",
       "      <td>5</td>\n",
       "      <td>14</td>\n",
       "      <td>2</td>\n",
       "      <td>2</td>\n",
       "      <td>2</td>\n",
       "      <td>12.0</td>\n",
       "      <td>2.0</td>\n",
       "      <td>10</td>\n",
       "      <td>2.0</td>\n",
       "      <td>18</td>\n",
       "      <td>2.0</td>\n",
       "      <td>2</td>\n",
       "      <td>5.0</td>\n",
       "      <td>3</td>\n",
       "      <td>104</td>\n",
       "      <td>6</td>\n",
       "      <td>7</td>\n",
       "      <td>11</td>\n",
       "      <td>10</td>\n",
       "      <td>11</td>\n",
       "      <td>8</td>\n",
       "      <td>26</td>\n",
       "      <td>20</td>\n",
       "      <td>11</td>\n",
       "      <td>14</td>\n",
       "      <td>24</td>\n",
       "      <td>2</td>\n",
       "      <td>2</td>\n",
       "      <td>2</td>\n",
       "      <td>2</td>\n",
       "      <td>2</td>\n",
       "      <td>2</td>\n",
       "    </tr>\n",
       "    <tr>\n",
       "      <td>top</td>\n",
       "      <td>0</td>\n",
       "      <td>1.0</td>\n",
       "      <td>2</td>\n",
       "      <td>0.0</td>\n",
       "      <td>0.0</td>\n",
       "      <td>0</td>\n",
       "      <td>0</td>\n",
       "      <td>0</td>\n",
       "      <td>0</td>\n",
       "      <td>0</td>\n",
       "      <td>0</td>\n",
       "      <td>0</td>\n",
       "      <td>0</td>\n",
       "      <td>0</td>\n",
       "      <td>7</td>\n",
       "      <td>1</td>\n",
       "      <td>0</td>\n",
       "      <td>0</td>\n",
       "      <td>11.0</td>\n",
       "      <td>1.0</td>\n",
       "      <td>0</td>\n",
       "      <td>1.0</td>\n",
       "      <td>11</td>\n",
       "      <td>1.0</td>\n",
       "      <td>1</td>\n",
       "      <td>2.0</td>\n",
       "      <td>1</td>\n",
       "      <td>104</td>\n",
       "      <td>2</td>\n",
       "      <td>2</td>\n",
       "      <td>8</td>\n",
       "      <td>3</td>\n",
       "      <td>9</td>\n",
       "      <td>2</td>\n",
       "      <td>8</td>\n",
       "      <td>5</td>\n",
       "      <td>1</td>\n",
       "      <td>2</td>\n",
       "      <td>7</td>\n",
       "      <td>0</td>\n",
       "      <td>1</td>\n",
       "      <td>1</td>\n",
       "      <td>0</td>\n",
       "      <td>0</td>\n",
       "      <td>0</td>\n",
       "    </tr>\n",
       "    <tr>\n",
       "      <td>freq</td>\n",
       "      <td>187594</td>\n",
       "      <td>431859.0</td>\n",
       "      <td>96110</td>\n",
       "      <td>346965.0</td>\n",
       "      <td>528009.0</td>\n",
       "      <td>360852</td>\n",
       "      <td>442223</td>\n",
       "      <td>497644</td>\n",
       "      <td>484917</td>\n",
       "      <td>594990</td>\n",
       "      <td>594205</td>\n",
       "      <td>589594</td>\n",
       "      <td>594648</td>\n",
       "      <td>588832</td>\n",
       "      <td>65336</td>\n",
       "      <td>393330</td>\n",
       "      <td>523143</td>\n",
       "      <td>503879</td>\n",
       "      <td>207573.0</td>\n",
       "      <td>493990.0</td>\n",
       "      <td>496581</td>\n",
       "      <td>172667.0</td>\n",
       "      <td>131527</td>\n",
       "      <td>553148.0</td>\n",
       "      <td>495264</td>\n",
       "      <td>353482.0</td>\n",
       "      <td>590179</td>\n",
       "      <td>85083</td>\n",
       "      <td>193977</td>\n",
       "      <td>195160</td>\n",
       "      <td>175015</td>\n",
       "      <td>162414</td>\n",
       "      <td>151746</td>\n",
       "      <td>182519</td>\n",
       "      <td>82043</td>\n",
       "      <td>102512</td>\n",
       "      <td>203280</td>\n",
       "      <td>139334</td>\n",
       "      <td>86673</td>\n",
       "      <td>522342</td>\n",
       "      <td>373698</td>\n",
       "      <td>329856</td>\n",
       "      <td>424278</td>\n",
       "      <td>387469</td>\n",
       "      <td>503955</td>\n",
       "    </tr>\n",
       "  </tbody>\n",
       "</table>\n",
       "</div>"
      ],
      "text/plain": [
       "        ps_ind_01  ps_ind_02_cat  ps_ind_03  ps_ind_04_cat  ps_ind_05_cat  \\\n",
       "count      595212       594996.0     595212       595129.0       589403.0   \n",
       "unique          8            4.0         12            2.0            7.0   \n",
       "top             0            1.0          2            0.0            0.0   \n",
       "freq       187594       431859.0      96110       346965.0       528009.0   \n",
       "\n",
       "        ps_ind_06_bin  ps_ind_07_bin  ps_ind_08_bin  ps_ind_09_bin  \\\n",
       "count          595212         595212         595212         595212   \n",
       "unique              2              2              2              2   \n",
       "top                 0              0              0              0   \n",
       "freq           360852         442223         497644         484917   \n",
       "\n",
       "        ps_ind_10_bin  ps_ind_11_bin  ps_ind_12_bin  ps_ind_13_bin  ps_ind_14  \\\n",
       "count          595212         595212         595212         595212     595212   \n",
       "unique              2              2              2              2          5   \n",
       "top                 0              0              0              0          0   \n",
       "freq           594990         594205         589594         594648     588832   \n",
       "\n",
       "        ps_ind_15  ps_ind_16_bin  ps_ind_17_bin  ps_ind_18_bin  ps_car_01_cat  \\\n",
       "count      595212         595212         595212         595212       595105.0   \n",
       "unique         14              2              2              2           12.0   \n",
       "top             7              1              0              0           11.0   \n",
       "freq        65336         393330         523143         503879       207573.0   \n",
       "\n",
       "        ps_car_02_cat  ps_car_04_cat  ps_car_05_cat  ps_car_06_cat  \\\n",
       "count        595207.0         595212       328661.0         595212   \n",
       "unique            2.0             10            2.0             18   \n",
       "top               1.0              0            1.0             11   \n",
       "freq         493990.0         496581       172667.0         131527   \n",
       "\n",
       "        ps_car_07_cat  ps_car_08_cat  ps_car_09_cat  ps_car_10_cat  \\\n",
       "count        583723.0         595212       594643.0         595212   \n",
       "unique            2.0              2            5.0              3   \n",
       "top               1.0              1            2.0              1   \n",
       "freq         553148.0         495264       353482.0         590179   \n",
       "\n",
       "        ps_car_11_cat  ps_calc_04  ps_calc_05  ps_calc_06  ps_calc_07  \\\n",
       "count          595212      595212      595212      595212      595212   \n",
       "unique            104           6           7          11          10   \n",
       "top               104           2           2           8           3   \n",
       "freq            85083      193977      195160      175015      162414   \n",
       "\n",
       "        ps_calc_08  ps_calc_09  ps_calc_10  ps_calc_11  ps_calc_12  \\\n",
       "count       595212      595212      595212      595212      595212   \n",
       "unique          11           8          26          20          11   \n",
       "top              9           2           8           5           1   \n",
       "freq        151746      182519       82043      102512      203280   \n",
       "\n",
       "        ps_calc_13  ps_calc_14  ps_calc_15_bin  ps_calc_16_bin  \\\n",
       "count       595212      595212          595212          595212   \n",
       "unique          14          24               2               2   \n",
       "top              2           7               0               1   \n",
       "freq        139334       86673          522342          373698   \n",
       "\n",
       "        ps_calc_17_bin  ps_calc_18_bin  ps_calc_19_bin  ps_calc_20_bin  \n",
       "count           595212          595212          595212          595212  \n",
       "unique               2               2               2               2  \n",
       "top                  1               0               0               0  \n",
       "freq            329856          424278          387469          503955  "
      ]
     },
     "execution_count": 17,
     "metadata": {},
     "output_type": "execute_result"
    }
   ],
   "source": [
    "df[cat].describe()"
   ]
  },
  {
   "cell_type": "code",
   "execution_count": null,
   "metadata": {},
   "outputs": [],
   "source": []
  },
  {
   "cell_type": "code",
   "execution_count": 18,
   "metadata": {},
   "outputs": [
    {
     "data": {
      "text/plain": [
       "[]"
      ]
     },
     "execution_count": 18,
     "metadata": {},
     "output_type": "execute_result"
    }
   ],
   "source": [
    "rows, columns = df.shape\n",
    "drop_nunique_col = []\n",
    "for col in df.columns:\n",
    "    if df[col].nunique == rows or df[col].nunique == 1:\n",
    "        drop_nunique_col.append(col)\n",
    "drop_nunique_col    "
   ]
  },
  {
   "cell_type": "code",
   "execution_count": 19,
   "metadata": {},
   "outputs": [],
   "source": [
    "X_train, X_test, y_train, y_test = train_test_split(df, y, test_size=0.25, random_state=0)"
   ]
  },
  {
   "cell_type": "code",
   "execution_count": 20,
   "metadata": {},
   "outputs": [],
   "source": [
    "#X_train[cat].iloc[:400, :]"
   ]
  },
  {
   "cell_type": "code",
   "execution_count": 21,
   "metadata": {
    "scrolled": true
   },
   "outputs": [],
   "source": [
    "#X_test[reg].iloc[:400, :]"
   ]
  },
  {
   "cell_type": "code",
   "execution_count": null,
   "metadata": {},
   "outputs": [],
   "source": []
  },
  {
   "cell_type": "code",
   "execution_count": 22,
   "metadata": {},
   "outputs": [],
   "source": [
    "for col in X_train.columns:\n",
    "    if X_train[col].dtype == 'object':\n",
    "        X_train[col] = X_train[col].fillna(X_train[col].mode()[0])\n",
    "        X_test[col] = X_test[col].fillna(X_train[col].mode()[0])\n",
    "    else:\n",
    "        X_train[col] = X_train[col].fillna(X_train[col].mean())\n",
    "        X_test[col] = X_test[col].fillna(X_train[col].mean())"
   ]
  },
  {
   "cell_type": "code",
   "execution_count": null,
   "metadata": {},
   "outputs": [],
   "source": []
  },
  {
   "cell_type": "code",
   "execution_count": 23,
   "metadata": {},
   "outputs": [
    {
     "data": {
      "text/plain": [
       "'\\nprint(y_train.value_counts())\\nprint(y_train.value_counts(normalize=True))\\nprint(y_train.shape)\\n\\nsmort = SMOTE(sampling_strategy=0.3, k_neighbors=8)  ## SMOTE Parameters\\nX_train, y_train = smort.fit_resample(X_train, y_train)\\n\\nprint(y_train.value_counts())\\nprint(y_train.value_counts(normalize=True))\\nprint(y_train.shape)\\n'"
      ]
     },
     "execution_count": 23,
     "metadata": {},
     "output_type": "execute_result"
    }
   ],
   "source": [
    "'''\n",
    "print(y_train.value_counts())\n",
    "print(y_train.value_counts(normalize=True))\n",
    "print(y_train.shape)\n",
    "\n",
    "smort = SMOTE(sampling_strategy=0.3, k_neighbors=8)  ## SMOTE Parameters\n",
    "X_train, y_train = smort.fit_resample(X_train, y_train)\n",
    "\n",
    "print(y_train.value_counts())\n",
    "print(y_train.value_counts(normalize=True))\n",
    "print(y_train.shape)\n",
    "'''"
   ]
  },
  {
   "cell_type": "markdown",
   "metadata": {},
   "source": [
    "### Data Preprocessing -Lable Encoding, MinMax Scaling, Chi2Test"
   ]
  },
  {
   "cell_type": "code",
   "execution_count": 24,
   "metadata": {},
   "outputs": [],
   "source": [
    "class LabelEncoderExt(object):\n",
    "    def __init__(self):\n",
    "        \"\"\"\n",
    "        It differs from LabelEncoder by handling new classes and providing a value for it [Unknown]\n",
    "        Unknown will be added in fit and transform will take care of new item. It gives unknown class id\n",
    "        \"\"\"\n",
    "        self.label_encoder = LabelEncoder()\n",
    "        # self.classes_ = self.label_encoder.classes_\n",
    "\n",
    "    def fit(self, data_list):\n",
    "        \"\"\"\n",
    "        This will fit the encoder for all the unique values and introduce unknown value\n",
    "        :param data_list: A list of string\n",
    "        :return: self\n",
    "        \"\"\"\n",
    "        self.label_encoder = self.label_encoder.fit(list(data_list) + ['Unknown'])\n",
    "        self.classes_ = self.label_encoder.classes_\n",
    "\n",
    "        return self\n",
    "\n",
    "    def transform(self, data_list):\n",
    "        \"\"\"\n",
    "        This will transform the data_list to id list where the new values get assigned to Unknown class\n",
    "        :param data_list:\n",
    "        :return:\n",
    "        \"\"\"\n",
    "        new_data_list = list(data_list)\n",
    "        for unique_item in np.unique(data_list):\n",
    "            if unique_item not in self.label_encoder.classes_:\n",
    "                new_data_list = ['Unknown' if x==unique_item else x for x in new_data_list]\n",
    "\n",
    "        return self.label_encoder.transform(new_data_list)"
   ]
  },
  {
   "cell_type": "code",
   "execution_count": 25,
   "metadata": {},
   "outputs": [],
   "source": [
    "Le = LabelEncoderExt()\n",
    "for col in X_train.columns:\n",
    "    if X_train[col].dtype == 'object':\n",
    "        Le.fit(X_train[col])\n",
    "        X_train[col] = Le.transform(X_train[col]).asdtype('int64')\n",
    "        X_test[col] = Le.transform(X_test[col]).asdtype('int64')"
   ]
  },
  {
   "cell_type": "code",
   "execution_count": 26,
   "metadata": {},
   "outputs": [],
   "source": [
    "mMs = MinMaxScaler()\n",
    "for col in reg:\n",
    "        #mMs.fit([X_train[col]])\n",
    "        X_train[col] = mMs.fit_transform(np.array(X_train[col]).reshape(-1, 1))\n",
    "        X_test[col] = mMs.transform(np.array(X_test[col]).reshape(-1, 1))"
   ]
  },
  {
   "cell_type": "code",
   "execution_count": null,
   "metadata": {},
   "outputs": [],
   "source": []
  },
  {
   "cell_type": "code",
   "execution_count": 27,
   "metadata": {},
   "outputs": [
    {
     "data": {
      "text/plain": [
       "'\\nch2_Value = []\\npValue = []\\nfor col in cat:\\n    ct = pd.crosstab(X_train[col], y_train)   \\n    ch2_Value.append(stats.chi2_contingency(ct)[0])\\n    pValue.append(stats.chi2_contingency(ct)[1])\\n    \\nch2_df = pd.DataFrame()\\nch2_df[\\'cat_columns\\'] = cat\\nch2_df[\\'ch2_value\\'] = ch2_Value\\nch2_df[\\'pValue\\'] = pValue\\n\\n\\n\\nprint(\"Before Feature Selection[Ch2_Test] No of Categorical Columns: =======>\", len(cat))\\nch2_test_af_col = ch2_df[ch2_df[\\'pValue\\']<0.06][\\'cat_columns\\'].tolist()\\nprint(\"After Feature Selection[Ch2_Test] No of Categorical Columns: ========>\", len(ch2_test_af_col))\\n\\nfinal_col = reg + ch2_test_af_col     ## combing continous and ch2 test outcome columns \\n\\nX_train = X_train[final_col]\\nX_test = X_test[final_col]\\n\\n\\nprint(\"Final Number of Columns : ========>\", len(final_col))\\n'"
      ]
     },
     "execution_count": 27,
     "metadata": {},
     "output_type": "execute_result"
    }
   ],
   "source": [
    "'''\n",
    "ch2_Value = []\n",
    "pValue = []\n",
    "for col in cat:\n",
    "    ct = pd.crosstab(X_train[col], y_train)   \n",
    "    ch2_Value.append(stats.chi2_contingency(ct)[0])\n",
    "    pValue.append(stats.chi2_contingency(ct)[1])\n",
    "    \n",
    "ch2_df = pd.DataFrame()\n",
    "ch2_df['cat_columns'] = cat\n",
    "ch2_df['ch2_value'] = ch2_Value\n",
    "ch2_df['pValue'] = pValue\n",
    "\n",
    "\n",
    "\n",
    "print(\"Before Feature Selection[Ch2_Test] No of Categorical Columns: =======>\", len(cat))\n",
    "ch2_test_af_col = ch2_df[ch2_df['pValue']<0.06]['cat_columns'].tolist()\n",
    "print(\"After Feature Selection[Ch2_Test] No of Categorical Columns: ========>\", len(ch2_test_af_col))\n",
    "\n",
    "final_col = reg + ch2_test_af_col     ## combing continous and ch2 test outcome columns \n",
    "\n",
    "X_train = X_train[final_col]\n",
    "X_test = X_test[final_col]\n",
    "\n",
    "\n",
    "print(\"Final Number of Columns : ========>\", len(final_col))\n",
    "'''"
   ]
  },
  {
   "cell_type": "code",
   "execution_count": null,
   "metadata": {},
   "outputs": [],
   "source": []
  },
  {
   "cell_type": "markdown",
   "metadata": {},
   "source": [
    "## Checking Feature Importance"
   ]
  },
  {
   "cell_type": "code",
   "execution_count": 28,
   "metadata": {},
   "outputs": [],
   "source": [
    "def featureIMP(model, X):\n",
    "    \n",
    "    fimpdf = pd.DataFrame(columns=['cName', 'f_imp'])\n",
    "    fimpdf['f_imp'] = model.feature_importances_\n",
    "    fimpdf['cName'] = X.columns\n",
    "    \n",
    "    fimpdf = fimpdf.sort_values('f_imp', ascending=False)\n",
    "    \n",
    "    plt.figure(figsize=(8, 8))\n",
    "    plt.plot(np.arange(1, fimpdf.shape[0]+1), np.cumsum(fimpdf['f_imp']))\n",
    "    plt.xlabel('No of Input Features in Train Data')\n",
    "    plt.ylabel('Cumulative Sum of FeatureImportance')\n",
    "    plt.title('Feature Importance Plot')\n",
    "    \n",
    "    fimpdf.reset_index(drop=True, inplace=True)\n",
    "\n",
    "    return fimpdf"
   ]
  },
  {
   "cell_type": "code",
   "execution_count": 30,
   "metadata": {},
   "outputs": [],
   "source": [
    "#feature_df = featureIMP(rf, X_train)"
   ]
  },
  {
   "cell_type": "code",
   "execution_count": 31,
   "metadata": {},
   "outputs": [],
   "source": [
    "#final_col = feature_df[:20]['cName'].tolist()"
   ]
  },
  {
   "cell_type": "markdown",
   "metadata": {},
   "source": [
    "## HyperParameter Tuning"
   ]
  },
  {
   "cell_type": "code",
   "execution_count": 33,
   "metadata": {},
   "outputs": [],
   "source": [
    "rf_hyp = RandomForestClassifier(n_jobs=-1)"
   ]
  },
  {
   "cell_type": "code",
   "execution_count": 34,
   "metadata": {},
   "outputs": [],
   "source": [
    "rf_params = {\n",
    "    'n_estimators': np.arange(10,100,10),\n",
    "    'criterion' : ['gini', 'entropy'], \n",
    "    'max_depth' : np.arange(2,12,1), \n",
    "    'max_leaf_nodes': np.arange(2,12,1),\n",
    "    'min_samples_leaf': np.arange(2,12,1)\n",
    "}"
   ]
  },
  {
   "cell_type": "code",
   "execution_count": 35,
   "metadata": {},
   "outputs": [],
   "source": [
    "rsCV = RandomizedSearchCV(estimator=rf_hyp, param_distributions=rf_params, n_iter=40, scoring='roc_auc')"
   ]
  },
  {
   "cell_type": "code",
   "execution_count": 36,
   "metadata": {},
   "outputs": [
    {
     "data": {
      "text/plain": [
       "RandomizedSearchCV(cv=None, error_score=nan,\n",
       "                   estimator=RandomForestClassifier(bootstrap=True,\n",
       "                                                    ccp_alpha=0.0,\n",
       "                                                    class_weight=None,\n",
       "                                                    criterion='gini',\n",
       "                                                    max_depth=None,\n",
       "                                                    max_features='auto',\n",
       "                                                    max_leaf_nodes=None,\n",
       "                                                    max_samples=None,\n",
       "                                                    min_impurity_decrease=0.0,\n",
       "                                                    min_impurity_split=None,\n",
       "                                                    min_samples_leaf=1,\n",
       "                                                    min_samples_split=2,\n",
       "                                                    min_weight_fraction_leaf=0.0,\n",
       "                                                    n_estimators=100, n_j...\n",
       "                   param_distributions={'criterion': ['gini', 'entropy'],\n",
       "                                        'max_depth': array([ 2,  3,  4,  5,  6,  7,  8,  9, 10, 11]),\n",
       "                                        'max_leaf_nodes': array([ 2,  3,  4,  5,  6,  7,  8,  9, 10, 11]),\n",
       "                                        'min_samples_leaf': array([ 2,  3,  4,  5,  6,  7,  8,  9, 10, 11]),\n",
       "                                        'n_estimators': array([10, 20, 30, 40, 50, 60, 70, 80, 90])},\n",
       "                   pre_dispatch='2*n_jobs', random_state=None, refit=True,\n",
       "                   return_train_score=False, scoring='roc_auc', verbose=0)"
      ]
     },
     "execution_count": 36,
     "metadata": {},
     "output_type": "execute_result"
    }
   ],
   "source": [
    "rsCV.fit(X_train, y_train)"
   ]
  },
  {
   "cell_type": "code",
   "execution_count": 37,
   "metadata": {},
   "outputs": [],
   "source": [
    "best_params = rsCV.best_params_"
   ]
  },
  {
   "cell_type": "code",
   "execution_count": 38,
   "metadata": {},
   "outputs": [
    {
     "data": {
      "text/plain": [
       "{'n_estimators': 40,\n",
       " 'min_samples_leaf': 2,\n",
       " 'max_leaf_nodes': 11,\n",
       " 'max_depth': 11,\n",
       " 'criterion': 'entropy'}"
      ]
     },
     "execution_count": 38,
     "metadata": {},
     "output_type": "execute_result"
    }
   ],
   "source": [
    "best_params"
   ]
  },
  {
   "cell_type": "code",
   "execution_count": 39,
   "metadata": {},
   "outputs": [],
   "source": [
    "rf_best_Model = rsCV.best_estimator_ ## Choosing Best estimator with best parameters"
   ]
  },
  {
   "cell_type": "code",
   "execution_count": 40,
   "metadata": {},
   "outputs": [
    {
     "data": {
      "text/plain": [
       "RandomForestClassifier(bootstrap=True, ccp_alpha=0.0, class_weight=None,\n",
       "                       criterion='entropy', max_depth=11, max_features='auto',\n",
       "                       max_leaf_nodes=11, max_samples=None,\n",
       "                       min_impurity_decrease=0.0, min_impurity_split=None,\n",
       "                       min_samples_leaf=2, min_samples_split=2,\n",
       "                       min_weight_fraction_leaf=0.0, n_estimators=40, n_jobs=-1,\n",
       "                       oob_score=False, random_state=None, verbose=0,\n",
       "                       warm_start=False)"
      ]
     },
     "execution_count": 40,
     "metadata": {},
     "output_type": "execute_result"
    }
   ],
   "source": [
    "rf_best_Model.fit(X_train, y_train)"
   ]
  },
  {
   "cell_type": "code",
   "execution_count": 47,
   "metadata": {},
   "outputs": [],
   "source": [
    "def cross_val_model(X,y, model, n_splits=3, n_folds=3):\n",
    "    'Do split dataset and calculate cross_score'\n",
    "    X = np.array(X)\n",
    "    y = np.array(y)\n",
    "    folds = list(StratifiedKFold(n_splits=n_splits, shuffle=True, random_state=2020).split(X, y))\n",
    "\n",
    "    for j, (train_idx, test_idx) in enumerate(folds):\n",
    "        X_train = X[train_idx]\n",
    "        y_train = y[train_idx]\n",
    "        X_holdout = X[test_idx]\n",
    "        y_holdout = y[test_idx]\n",
    "\n",
    "        print (\"Fit %s Split %d\" % (str(model).split('(')[0], j+1))\n",
    "        model.fit(X_train, y_train)\n",
    "        cross_score = cross_val_score(model, X_holdout, y_holdout, cv=n_folds, scoring='roc_auc')\n",
    "        print(\"         Mean cross_score of %d Folds : =========:> %f\" % (n_folds, cross_score.mean()))"
   ]
  },
  {
   "cell_type": "code",
   "execution_count": 48,
   "metadata": {},
   "outputs": [
    {
     "name": "stdout",
     "output_type": "stream",
     "text": [
      "Fit RandomForestClassifier Split 1\n",
      "         Mean cross_score of 5 Folds : =========:> 0.620281\n",
      "Fit RandomForestClassifier Split 2\n",
      "         Mean cross_score of 5 Folds : =========:> 0.607897\n",
      "Fit RandomForestClassifier Split 3\n",
      "         Mean cross_score of 5 Folds : =========:> 0.618564\n",
      "Fit RandomForestClassifier Split 4\n",
      "         Mean cross_score of 5 Folds : =========:> 0.616278\n",
      "Fit RandomForestClassifier Split 5\n",
      "         Mean cross_score of 5 Folds : =========:> 0.612874\n"
     ]
    }
   ],
   "source": [
    "cross_val_model(X_train, y_train, rf_best_Model, n_splits=5, n_folds=5)"
   ]
  },
  {
   "cell_type": "code",
   "execution_count": 43,
   "metadata": {},
   "outputs": [],
   "source": [
    "y_predict = rf_best_Model.predict(X_test)\n",
    "y_predict_proba = rf_best_Model.predict_proba(X_test)[::,1]"
   ]
  },
  {
   "cell_type": "code",
   "execution_count": 44,
   "metadata": {},
   "outputs": [],
   "source": [
    "train_acc = rf_best_Model.score(X_train, y_train)\n",
    "test_acc =  rf_best_Model.score(X_test, y_test)\n",
    "\n",
    "recallScore = recall_score(y_test, y_predict)\n",
    "precisionScore = precision_score(y_test, y_predict)\n",
    "\n",
    "f1Score = f1_score(y_test, y_predict)\n",
    "auc = roc_auc_score(y_test, y_predict_proba)\n",
    "fpr, tpr, thrshould = roc_curve(y_test, y_predict_proba)"
   ]
  },
  {
   "cell_type": "code",
   "execution_count": 45,
   "metadata": {},
   "outputs": [
    {
     "name": "stdout",
     "output_type": "stream",
     "text": [
      "\n",
      "\n",
      "\n",
      "Model Name:  RandomForestClassifier\n",
      "ConfusionMatrix: \n",
      " [[143419      0]\n",
      " [  5384      0]]\n",
      "TrainAcc: ====> 0.9634639982616838\n",
      "TestAccuracy : ====> 0.9638179337782168\n",
      "recall: ====> 0.0\n",
      "Precision: ====> 0.0\n",
      "F1Score: ====> 0.0\n",
      "AUC: ====> 0.6214881769702583\n"
     ]
    }
   ],
   "source": [
    "print(\"\\n\\n\")\n",
    "print(\"Model Name: \", str(rf_best_Model).split(\"(\")[0])\n",
    "print(\"ConfusionMatrix: \\n\", confusion_matrix(y_test, y_predict))    \n",
    "print(\"TrainAcc: ====> {}\".format(train_acc))\n",
    "print(\"TestAccuracy : ====> {}\".format(test_acc))\n",
    "print(\"recall: ====> {}\".format(recallScore))\n",
    "print(\"Precision: ====> {}\".format(precisionScore))\n",
    "print(\"F1Score: ====> {}\".format(f1Score))\n",
    "print(\"AUC: ====> {}\".format(auc))"
   ]
  },
  {
   "cell_type": "code",
   "execution_count": 46,
   "metadata": {},
   "outputs": [
    {
     "data": {
      "image/png": "[encoded data removed]",
      "text/plain": [
       "<Figure size 576x576 with 1 Axes>"
      ]
     },
     "metadata": {
      "needs_background": "light"
     },
     "output_type": "display_data"
    }
   ],
   "source": [
    "plt.figure(figsize=(8,8))\n",
    "plt.plot(fpr, tpr, label=\"Model Name: \"+str(rf_best_Model).split(\"(\")[0]+\"\\n\"+\"auc=\"+str(auc))\n",
    "plt.xlabel('False Positive Rate')\n",
    "plt.ylabel('True Positive Rate')\n",
    "plt.title('Area Under The Curve AUC-ROC')\n",
    "\n",
    "plt.legend(loc= 7)\n",
    "plt.show()"
   ]
  },
  {
   "cell_type": "code",
   "execution_count": null,
   "metadata": {},
   "outputs": [],
   "source": []
  }
 ],
 "metadata": {
  "kernelspec": {
   "display_name": "Python 3",
   "language": "python",
   "name": "python3"
  },
  "language_info": {
   "codemirror_mode": {
    "name": "ipython",
    "version": 3
   },
   "file_extension": ".py",
   "mimetype": "text/x-python",
   "name": "python",
   "nbconvert_exporter": "python",
   "pygments_lexer": "ipython3",
   "version": "3.7.4"
  }
 },
 "nbformat": 4,
 "nbformat_minor": 2
}
